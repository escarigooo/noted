{
 "cells": [
  {
   "cell_type": "markdown",
   "id": "f4c2c8df",
   "metadata": {},
   "source": [
    "# Graphics Data Export\n",
    "\n",
    "Export visualization data from the `db_noted` database to JSON for interactive charts.\n",
    "\n",
    "**Purpose**: Generate chart data for admin analytics page with interactive graphs and filters."
   ]
  },
  {
   "cell_type": "markdown",
   "id": "d223a815",
   "metadata": {},
   "source": [
    "# Setup\n",
    "\n",
    "Import libraries, connect to database, define chart data structure."
   ]
  },
  {
   "cell_type": "code",
   "execution_count": 1,
   "id": "4c254bf0",
   "metadata": {
    "execution": {
     "iopub.execute_input": "2025-07-06T19:34:19.394483Z",
     "iopub.status.busy": "2025-07-06T19:34:19.392995Z",
     "iopub.status.idle": "2025-07-06T19:34:20.393545Z",
     "shell.execute_reply": "2025-07-06T19:34:20.393545Z"
    }
   },
   "outputs": [
    {
     "name": "stdout",
     "output_type": "stream",
     "text": [
      "✅ Graphics libraries imported!\n",
      "📅 Executed at: 2025-07-06 20:34:20\n",
      "✅ Database connection established\n",
      "📅 Date ranges:\n",
      "   Today: 2025-07-06\n",
      "   Month start: 2025-07-01\n",
      "   Year start: 2025-01-01\n",
      "   Last 12 months: 2024-07-06\n",
      "\n",
      "🎨 Ready to collect simplified graphics data...\n"
     ]
    }
   ],
   "source": [
    "# Import libraries for graphics and database\n",
    "import mysql.connector\n",
    "import json\n",
    "from datetime import datetime, timedelta\n",
    "import pandas as pd\n",
    "import calendar\n",
    "import os\n",
    "\n",
    "print(\"✅ Graphics libraries imported!\")\n",
    "print(f\"📅 Executed at: {datetime.now().strftime('%Y-%m-%d %H:%M:%S')}\")\n",
    "\n",
    "# Database connection\n",
    "try:\n",
    "    conn = mysql.connector.connect(\n",
    "        host='localhost',\n",
    "        user='root',\n",
    "        password='',\n",
    "        database='db_noted'\n",
    "    )\n",
    "    cursor = conn.cursor()\n",
    "    print(\"✅ Database connection established\")\n",
    "except Exception as e:\n",
    "    print(f\"❌ Connection error: {e}\")\n",
    "    exit()\n",
    "\n",
    "# Helper function to check connection and reconnect if needed\n",
    "def ensure_connection():\n",
    "    global conn, cursor\n",
    "    try:\n",
    "        # Check if connection is alive\n",
    "        conn.ping(reconnect=False, attempts=1, delay=0)\n",
    "    except:\n",
    "        print(\"⚠️ Connection lost. Reconnecting...\")\n",
    "        try:\n",
    "            # Try to reconnect\n",
    "            conn = mysql.connector.connect(\n",
    "                host='localhost',\n",
    "                user='root',\n",
    "                password='',\n",
    "                database='db_noted'\n",
    "            )\n",
    "            cursor = conn.cursor()\n",
    "            print(\"✅ Reconnection successful\")\n",
    "        except Exception as e:\n",
    "            print(f\"❌ Reconnection failed: {e}\")\n",
    "            exit()\n",
    "\n",
    "# Helper function for safe query execution\n",
    "def safe_query(query, params=None):\n",
    "    try:\n",
    "        ensure_connection()  # Ensure connection is active\n",
    "        cursor.execute(query, params)\n",
    "        result = cursor.fetchall()\n",
    "        return result\n",
    "    except Exception as e:\n",
    "        print(f\"❌ Query error: {e}\")\n",
    "        print(f\"Query: {query}\")\n",
    "        return []\n",
    "\n",
    "# Calculate date ranges\n",
    "today = datetime.now().date()\n",
    "month_start = today.replace(day=1)\n",
    "year_start = today.replace(month=1, day=1)\n",
    "last_12_months = today - timedelta(days=365)\n",
    "\n",
    "print(f\"📅 Date ranges:\")\n",
    "print(f\"   Today: {today}\")\n",
    "print(f\"   Month start: {month_start}\")\n",
    "print(f\"   Year start: {year_start}\")\n",
    "print(f\"   Last 12 months: {last_12_months}\")\n",
    "\n",
    "# SIMPLIFIED GRAPHICS DATA STRUCTURE (removed payment methods and daily orders)\n",
    "graphics_data = {\n",
    "    \"last_updated\": datetime.now().isoformat(),\n",
    "    \"date_ranges\": {\n",
    "        \"Last 7 days\": {},\n",
    "        \"Last 30 days\": {},\n",
    "        \"Last 3 months\": {},\n",
    "        \"Last 6 months\": {},\n",
    "        \"Last 12 months\": {},\n",
    "        \"All time\": {}\n",
    "    },\n",
    "    \"static_charts\": {\n",
    "        \"products_chart\": {\"labels\": [], \"data\": [], \"type\": \"doughnut\", \"title\": \"Products by Category\"},\n",
    "        \"top_customers\": {\"labels\": [], \"data\": [], \"type\": \"horizontal_bar\", \"title\": \"Top Customers by Spending\"}\n",
    "    },\n",
    "    \"filters\": {\n",
    "        \"date_ranges\": [\"Last 7 days\", \"Last 30 days\", \"Last 3 months\", \"Last 6 months\", \"Last 12 months\", \"All time\"],\n",
    "        \"categories\": []\n",
    "    }\n",
    "}\n",
    "\n",
    "print(\"\\n🎨 Ready to collect simplified graphics data...\")"
   ]
  },
  {
   "cell_type": "markdown",
   "id": "87dd40fc",
   "metadata": {},
   "source": [
    "# Sales Chart Data\n",
    "\n",
    "Monthly sales data for line chart visualization."
   ]
  },
  {
   "cell_type": "code",
   "execution_count": 2,
   "id": "928aa6ed",
   "metadata": {
    "execution": {
     "iopub.execute_input": "2025-07-06T19:34:20.396691Z",
     "iopub.status.busy": "2025-07-06T19:34:20.396691Z",
     "iopub.status.idle": "2025-07-06T19:34:20.420771Z",
     "shell.execute_reply": "2025-07-06T19:34:20.420771Z"
    }
   },
   "outputs": [
    {
     "name": "stdout",
     "output_type": "stream",
     "text": [
      "\n",
      "📊 Processing sales data for: Last 7 days\n",
      "   ✅ Sales: 2 months, Total: 88.99€\n",
      "\n",
      "📊 Processing sales data for: Last 30 days\n",
      "   ✅ Sales: 2 months, Total: 855.98€\n",
      "\n",
      "📊 Processing sales data for: Last 3 months\n",
      "   ✅ Sales: 4 months, Total: 2026.96€\n",
      "\n",
      "📊 Processing sales data for: Last 6 months\n",
      "   ✅ Sales: 7 months, Total: 3418.92€\n",
      "\n",
      "📊 Processing sales data for: Last 12 months\n",
      "   ✅ Sales: 7 months, Total: 3897.92€\n",
      "\n",
      "📊 Processing sales data for: All time\n",
      "   ✅ Sales: 7 months, Total: 3897.92€\n",
      "\n",
      "✅ Sales chart data collected for all date ranges\n"
     ]
    }
   ],
   "source": [
    "# Sales data by different date ranges\n",
    "date_range_queries = {\n",
    "    \"Last 7 days\": \"DATE_SUB(NOW(), INTERVAL 7 DAY)\",\n",
    "    \"Last 30 days\": \"DATE_SUB(NOW(), INTERVAL 30 DAY)\", \n",
    "    \"Last 3 months\": \"DATE_SUB(NOW(), INTERVAL 3 MONTH)\",\n",
    "    \"Last 6 months\": \"DATE_SUB(NOW(), INTERVAL 6 MONTH)\",\n",
    "    \"Last 12 months\": \"DATE_SUB(NOW(), INTERVAL 12 MONTH)\",\n",
    "    \"All time\": \"DATE('2020-01-01')\"  # Far enough back to get all data\n",
    "}\n",
    "\n",
    "for range_name, date_condition in date_range_queries.items():\n",
    "    print(f\"\\n📊 Processing sales data for: {range_name}\")\n",
    "    \n",
    "    # Sales by month for this range\n",
    "    query = f\"\"\"\n",
    "    SELECT \n",
    "        DATE_FORMAT(order_date, '%Y-%m') as month,\n",
    "        DATE_FORMAT(order_date, '%M %Y') as month_label,\n",
    "        SUM(total) as total_sales,\n",
    "        COUNT(*) as order_count\n",
    "    FROM orders\n",
    "    WHERE order_date >= {date_condition}\n",
    "    GROUP BY DATE_FORMAT(order_date, '%Y-%m'), DATE_FORMAT(order_date, '%M %Y')\n",
    "    ORDER BY month\n",
    "    \"\"\"\n",
    "    result = safe_query(query)\n",
    "    \n",
    "    sales_labels = []\n",
    "    sales_data = []\n",
    "    \n",
    "    for row in result:\n",
    "        sales_labels.append(row[1])  # Month label\n",
    "        sales_data.append(float(row[2]))  # Total sales\n",
    "    \n",
    "    graphics_data[\"date_ranges\"][range_name][\"sales_chart\"] = {\n",
    "        \"labels\": sales_labels,\n",
    "        \"data\": sales_data,\n",
    "        \"type\": \"line\",\n",
    "        \"title\": f\"Sales Over Time ({range_name})\"\n",
    "    }\n",
    "    \n",
    "    print(f\"   ✅ Sales: {len(sales_data)} months, Total: {sum(sales_data):.2f}€\")\n",
    "\n",
    "print(f\"\\n✅ Sales chart data collected for all date ranges\")"
   ]
  },
  {
   "cell_type": "markdown",
   "id": "3de98270",
   "metadata": {},
   "source": [
    "# Orders Chart Data\n",
    "\n",
    "Monthly orders count for bar chart visualization."
   ]
  },
  {
   "cell_type": "code",
   "execution_count": 3,
   "id": "9b162c4b",
   "metadata": {
    "execution": {
     "iopub.execute_input": "2025-07-06T19:34:20.420771Z",
     "iopub.status.busy": "2025-07-06T19:34:20.420771Z",
     "iopub.status.idle": "2025-07-06T19:34:20.467429Z",
     "shell.execute_reply": "2025-07-06T19:34:20.464920Z"
    }
   },
   "outputs": [
    {
     "name": "stdout",
     "output_type": "stream",
     "text": [
      "\n",
      "📦 Processing orders data for: Last 7 days\n",
      "   ✅ Orders: 2 months, Total: 3\n",
      "\n",
      "📦 Processing orders data for: Last 30 days\n",
      "   ✅ Orders: 2 months, Total: 7\n",
      "\n",
      "📦 Processing orders data for: Last 3 months\n",
      "   ✅ Orders: 4 months, Total: 13\n",
      "\n",
      "📦 Processing orders data for: Last 6 months\n",
      "   ✅ Orders: 7 months, Total: 21\n",
      "\n",
      "📦 Processing orders data for: Last 12 months\n",
      "   ✅ Orders: 7 months, Total: 22\n",
      "\n",
      "📦 Processing orders data for: All time\n",
      "   ✅ Orders: 7 months, Total: 22\n",
      "\n",
      "✅ Orders charts generated for all date ranges\n",
      "   Last 7 days: 2 data points\n",
      "   Last 30 days: 2 data points\n",
      "   Last 3 months: 4 data points\n",
      "   Last 6 months: 7 data points\n",
      "   Last 12 months: 7 data points\n",
      "   All time: 7 data points\n"
     ]
    }
   ],
   "source": [
    "# Orders chart generation for all date ranges\n",
    "# --------------------------------------------\n",
    "\n",
    "# Generate orders data for all date ranges\n",
    "def generate_orders_data(days_back=None, months_back=None):\n",
    "    if days_back:\n",
    "        # Daily data for short ranges\n",
    "        query = \"\"\"\n",
    "        SELECT \n",
    "            DATE(order_date) as period,\n",
    "            DATE_FORMAT(order_date, '%d/%m') as period_label,\n",
    "            COUNT(*) as order_count\n",
    "        FROM orders\n",
    "        WHERE order_date >= DATE_SUB(NOW(), INTERVAL %s DAY)\n",
    "        GROUP BY DATE(order_date), DATE_FORMAT(order_date, '%d/%m')\n",
    "        ORDER BY period\n",
    "        \"\"\"\n",
    "        params = (days_back,)\n",
    "        title_suffix = f\"(Last {days_back} days)\"\n",
    "    elif months_back:\n",
    "        # Monthly data for longer ranges\n",
    "        query = \"\"\"\n",
    "        SELECT \n",
    "            DATE_FORMAT(order_date, '%Y-%m') as period,\n",
    "            DATE_FORMAT(order_date, '%M %Y') as period_label,\n",
    "            COUNT(*) as order_count\n",
    "        FROM orders\n",
    "        WHERE order_date >= DATE_SUB(NOW(), INTERVAL %s MONTH)\n",
    "        GROUP BY DATE_FORMAT(order_date, '%Y-%m'), DATE_FORMAT(order_date, '%M %Y')\n",
    "        ORDER BY period\n",
    "        \"\"\"\n",
    "        params = (months_back,)\n",
    "        title_suffix = f\"(Last {months_back} months)\"\n",
    "    else:\n",
    "        # All time - monthly data\n",
    "        query = \"\"\"\n",
    "        SELECT \n",
    "            DATE_FORMAT(order_date, '%Y-%m') as period,\n",
    "            DATE_FORMAT(order_date, '%M %Y') as period_label,\n",
    "            COUNT(*) as order_count\n",
    "        FROM orders\n",
    "        GROUP BY DATE_FORMAT(order_date, '%Y-%m'), DATE_FORMAT(order_date, '%M %Y')\n",
    "        ORDER BY period\n",
    "        \"\"\"\n",
    "        params = None\n",
    "        title_suffix = \"(All time)\"\n",
    "    \n",
    "    result = safe_query(query, params)\n",
    "    \n",
    "    labels = []\n",
    "    data = []\n",
    "    for row in result:\n",
    "        labels.append(row[1])  # Period label\n",
    "        data.append(row[2])    # Order count\n",
    "    \n",
    "    return {\n",
    "        \"labels\": labels,\n",
    "        \"data\": data,\n",
    "        \"type\": \"bar\",\n",
    "        \"title\": f\"Orders by Period {title_suffix}\"\n",
    "    }\n",
    "\n",
    "# Generate orders data for all date ranges\n",
    "graphics_data[\"date_ranges\"][\"Last 7 days\"][\"orders_chart\"] = generate_orders_data(days_back=7)\n",
    "graphics_data[\"date_ranges\"][\"Last 30 days\"][\"orders_chart\"] = generate_orders_data(days_back=30)\n",
    "graphics_data[\"date_ranges\"][\"Last 3 months\"][\"orders_chart\"] = generate_orders_data(months_back=3)\n",
    "graphics_data[\"date_ranges\"][\"Last 12 months\"][\"orders_chart\"] = generate_orders_data(months_back=12)\n",
    "graphics_data[\"date_ranges\"][\"All time\"][\"orders_chart\"] = generate_orders_data()\n",
    "\n",
    "# Orders count by different date ranges\n",
    "for range_name, date_condition in date_range_queries.items():\n",
    "    print(f\"\\n📦 Processing orders data for: {range_name}\")\n",
    "    \n",
    "    query = f\"\"\"\n",
    "    SELECT \n",
    "        DATE_FORMAT(order_date, '%M %Y') as month_label,\n",
    "        COUNT(*) as order_count\n",
    "    FROM orders\n",
    "    WHERE order_date >= {date_condition}\n",
    "    GROUP BY DATE_FORMAT(order_date, '%Y-%m'), DATE_FORMAT(order_date, '%M %Y')\n",
    "    ORDER BY DATE_FORMAT(order_date, '%Y-%m')\n",
    "    \"\"\"\n",
    "    result = safe_query(query)\n",
    "    \n",
    "    orders_labels = []\n",
    "    orders_data = []\n",
    "    \n",
    "    for row in result:\n",
    "        orders_labels.append(row[0])\n",
    "        orders_data.append(row[1])\n",
    "    \n",
    "    graphics_data[\"date_ranges\"][range_name][\"orders_chart\"] = {\n",
    "        \"labels\": orders_labels,\n",
    "        \"data\": orders_data,\n",
    "        \"type\": \"bar\",\n",
    "        \"title\": f\"Orders by Month ({range_name})\"\n",
    "    }\n",
    "    \n",
    "    print(f\"   ✅ Orders: {len(orders_data)} months, Total: {sum(orders_data)}\")\n",
    "\n",
    "print(f\"\\n✅ Orders charts generated for all date ranges\")\n",
    "for range_name, range_data in graphics_data[\"date_ranges\"].items():\n",
    "    if \"orders_chart\" in range_data:\n",
    "        print(f\"   {range_name}: {len(range_data['orders_chart']['data'])} data points\")"
   ]
  },
  {
   "cell_type": "markdown",
   "id": "da088b19",
   "metadata": {},
   "source": [
    "# Products by Category Chart\n",
    "\n",
    "Product distribution for doughnut chart visualization."
   ]
  },
  {
   "cell_type": "code",
   "execution_count": 4,
   "id": "6c11ba26",
   "metadata": {
    "execution": {
     "iopub.execute_input": "2025-07-06T19:34:20.468690Z",
     "iopub.status.busy": "2025-07-06T19:34:20.468690Z",
     "iopub.status.idle": "2025-07-06T19:34:20.489103Z",
     "shell.execute_reply": "2025-07-06T19:34:20.489103Z"
    }
   },
   "outputs": [
    {
     "name": "stdout",
     "output_type": "stream",
     "text": [
      "✅ Products chart: 4 categories\n",
      "   Total products: 12\n"
     ]
    }
   ],
   "source": [
    "# Products by category for doughnut chart (static data - doesn't change with date ranges)\n",
    "query = \"\"\"\n",
    "SELECT \n",
    "    c.description as category_name,\n",
    "    COUNT(p.id) as product_count\n",
    "FROM categories c\n",
    "LEFT JOIN products p ON c.id = p.category_id\n",
    "GROUP BY c.id, c.description\n",
    "HAVING product_count > 0\n",
    "ORDER BY product_count DESC\n",
    "\"\"\"\n",
    "result = safe_query(query)\n",
    "\n",
    "for row in result:\n",
    "    graphics_data[\"static_charts\"][\"products_chart\"][\"labels\"].append(row[0])\n",
    "    graphics_data[\"static_charts\"][\"products_chart\"][\"data\"].append(row[1])\n",
    "    \n",
    "    # Add to filters\n",
    "    if row[0] not in graphics_data[\"filters\"][\"categories\"]:\n",
    "        graphics_data[\"filters\"][\"categories\"].append(row[0])\n",
    "\n",
    "print(f\"✅ Products chart: {len(graphics_data['static_charts']['products_chart']['data'])} categories\")\n",
    "print(f\"   Total products: {sum(graphics_data['static_charts']['products_chart']['data'])}\")"
   ]
  },
  {
   "cell_type": "markdown",
   "id": "e6c7f343",
   "metadata": {},
   "source": [
    "# Top Customers Chart\n",
    "\n",
    "Top 10 customers by total spending for horizontal bar chart."
   ]
  },
  {
   "cell_type": "code",
   "execution_count": 5,
   "id": "71880015",
   "metadata": {
    "execution": {
     "iopub.execute_input": "2025-07-06T19:34:20.494724Z",
     "iopub.status.busy": "2025-07-06T19:34:20.494724Z",
     "iopub.status.idle": "2025-07-06T19:34:20.506498Z",
     "shell.execute_reply": "2025-07-06T19:34:20.505974Z"
    }
   },
   "outputs": [
    {
     "name": "stdout",
     "output_type": "stream",
     "text": [
      "✅ Top customers chart: 10 customers\n",
      "   Total value: 3877.93€\n"
     ]
    }
   ],
   "source": [
    "# Top 10 customers by total spending (static data - doesn't change with date ranges)\n",
    "query = \"\"\"\n",
    "SELECT \n",
    "    u.name as customer_name,\n",
    "    SUM(o.total) as total_spent\n",
    "FROM users u\n",
    "JOIN orders o ON u.id = o.user_id\n",
    "GROUP BY u.id, u.name\n",
    "ORDER BY total_spent DESC\n",
    "LIMIT 10\n",
    "\"\"\"\n",
    "result = safe_query(query)\n",
    "\n",
    "for row in result:\n",
    "    graphics_data[\"static_charts\"][\"top_customers\"][\"labels\"].append(row[0])\n",
    "    graphics_data[\"static_charts\"][\"top_customers\"][\"data\"].append(float(row[1]))\n",
    "\n",
    "print(f\"✅ Top customers chart: {len(graphics_data['static_charts']['top_customers']['data'])} customers\")\n",
    "print(f\"   Total value: {sum(graphics_data['static_charts']['top_customers']['data'])}€\")"
   ]
  },
  {
   "cell_type": "markdown",
   "id": "0ff16cbd",
   "metadata": {},
   "source": [
    "# Export to JSON\n",
    "\n",
    "Save all chart data to graphics.json for frontend visualization."
   ]
  },
  {
   "cell_type": "code",
   "execution_count": 6,
   "id": "c6d69e7d",
   "metadata": {
    "execution": {
     "iopub.execute_input": "2025-07-06T19:34:20.510815Z",
     "iopub.status.busy": "2025-07-06T19:34:20.510815Z",
     "iopub.status.idle": "2025-07-06T19:34:20.538496Z",
     "shell.execute_reply": "2025-07-06T19:34:20.538496Z"
    }
   },
   "outputs": [
    {
     "name": "stdout",
     "output_type": "stream",
     "text": [
      "\n",
      "📊 SIMPLIFIED GRAPHICS DATA SUMMARY:\n",
      "   📅 Date ranges: 6\n",
      "     📈 Last 7 days: Sales(2) Orders(2)\n",
      "     📈 Last 30 days: Sales(2) Orders(2)\n",
      "     📈 Last 3 months: Sales(4) Orders(4)\n",
      "     📈 Last 6 months: Sales(7) Orders(7)\n",
      "     📈 Last 12 months: Sales(7) Orders(7)\n",
      "     📈 All time: Sales(7) Orders(7)\n",
      "   🔧 Static charts:\n",
      "     🍩 Products: 4 categories\n",
      "     👑 Top customers: 10 customers\n",
      "   🔽 Filter options: 6 date ranges\n",
      "\n",
      "✅ Simplified graphics data exported to: ..\\static\\data\\graphics.json\n",
      "📄 JSON file size: 5570 characters\n",
      "\n",
      "🔄 Creating backward-compatible default data...\n",
      "✅ Backward compatibility data added\n"
     ]
    }
   ],
   "source": [
    "# Export graphics data to JSONoutput_path = \"e:/producao_V15/noted/static/data/graphics.json\"\n",
    "output_path = os.path.join(\"..\", \"static\", \"data\", \"graphics.json\")\n",
    "\n",
    "\n",
    "def decimal_default(obj):\n",
    "    \"\"\"JSON serializer for objects not serializable by default json code\"\"\"\n",
    "    if hasattr(obj, '__float__'):\n",
    "        return float(obj)\n",
    "    raise TypeError\n",
    "\n",
    "# Close database connection\n",
    "cursor.close()\n",
    "conn.close()\n",
    "\n",
    "print(f\"\\n📊 SIMPLIFIED GRAPHICS DATA SUMMARY:\")\n",
    "print(f\"   📅 Date ranges: {len(graphics_data['date_ranges'])}\")\n",
    "for range_name, range_data in graphics_data[\"date_ranges\"].items():\n",
    "    sales_len = len(range_data.get('sales_chart', {}).get('data', []))\n",
    "    orders_len = len(range_data.get('orders_chart', {}).get('data', []))\n",
    "    print(f\"     📈 {range_name}: Sales({sales_len}) Orders({orders_len})\")\n",
    "\n",
    "print(f\"   🔧 Static charts:\")\n",
    "print(f\"     🍩 Products: {len(graphics_data['static_charts']['products_chart']['data'])} categories\")\n",
    "print(f\"     👑 Top customers: {len(graphics_data['static_charts']['top_customers']['data'])} customers\")\n",
    "print(f\"   🔽 Filter options: {len(graphics_data['filters']['date_ranges'])} date ranges\")\n",
    "\n",
    "# Export to JSON\n",
    "with open(output_path, 'w', encoding='utf-8') as f:\n",
    "    json.dump(graphics_data, f, indent=2, ensure_ascii=False, default=decimal_default)\n",
    "\n",
    "print(f\"\\n✅ Simplified graphics data exported to: {output_path}\")\n",
    "\n",
    "# Verify file size\n",
    "try:\n",
    "    with open(output_path, 'r', encoding='utf-8') as f:\n",
    "        file_content = f.read()\n",
    "    print(f\"📄 JSON file size: {len(file_content)} characters\")\n",
    "except Exception as e:\n",
    "    print(f\"⚠️ Error checking file size: {e}\")\n",
    "\n",
    "# Create backward-compatible default view (Last 12 months)\n",
    "print(f\"\\n🔄 Creating backward-compatible default data...\")\n",
    "default_range = graphics_data[\"date_ranges\"][\"Last 12 months\"]\n",
    "\n",
    "# Add default data at root level for backward compatibility\n",
    "if \"sales_chart\" in default_range:\n",
    "    graphics_data[\"sales_chart\"] = default_range[\"sales_chart\"]\n",
    "if \"orders_chart\" in default_range:\n",
    "    graphics_data[\"orders_chart\"] = default_range[\"orders_chart\"]\n",
    "\n",
    "# Add static charts at root level\n",
    "graphics_data.update(graphics_data[\"static_charts\"])\n",
    "\n",
    "print(\"✅ Backward compatibility data added\")"
   ]
  },
  {
   "cell_type": "markdown",
   "id": "1a9ce22c",
   "metadata": {},
   "source": [
    "# Cleanup\n",
    "\n",
    "Process completed successfully."
   ]
  },
  {
   "cell_type": "code",
   "execution_count": 7,
   "id": "c8c093ac",
   "metadata": {
    "execution": {
     "iopub.execute_input": "2025-07-06T19:34:20.542554Z",
     "iopub.status.busy": "2025-07-06T19:34:20.542554Z",
     "iopub.status.idle": "2025-07-06T19:34:20.550626Z",
     "shell.execute_reply": "2025-07-06T19:34:20.550626Z"
    }
   },
   "outputs": [
    {
     "name": "stdout",
     "output_type": "stream",
     "text": [
      "\n",
      "🎉 Graphics data collection completed!\n",
      "💡 Use the data with graphics.js:\n",
      "   fetch('/static/data/graphics.json')\n",
      "📊 Ready for Chart.js visualization!\n"
     ]
    }
   ],
   "source": [
    "print(\"\\n🎉 Graphics data collection completed!\")\n",
    "print(\"💡 Use the data with graphics.js:\")\n",
    "print(\"   fetch('/static/data/graphics.json')\")\n",
    "print(\"📊 Ready for Chart.js visualization!\")"
   ]
  }
 ],
 "metadata": {
  "kernelspec": {
   "display_name": "Python 3",
   "language": "python",
   "name": "python3"
  },
  "language_info": {
   "codemirror_mode": {
    "name": "ipython",
    "version": 3
   },
   "file_extension": ".py",
   "mimetype": "text/x-python",
   "name": "python",
   "nbconvert_exporter": "python",
   "pygments_lexer": "ipython3",
   "version": "3.12.2"
  }
 },
 "nbformat": 4,
 "nbformat_minor": 5
}
